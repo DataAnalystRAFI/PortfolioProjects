{
 "cells": [
  {
   "cell_type": "markdown",
   "id": "a93d83a4",
   "metadata": {},
   "source": [
    "# BMI CALCULATOR"
   ]
  },
  {
   "cell_type": "code",
   "execution_count": 13,
   "id": "18d9990e",
   "metadata": {},
   "outputs": [],
   "source": [
    "#BMI (USC) = (weight in pounds * 703) / (height in inches) * (height in inches)"
   ]
  },
  {
   "cell_type": "code",
   "execution_count": 19,
   "id": "464c28c3",
   "metadata": {},
   "outputs": [
    {
     "name": "stdout",
     "output_type": "stream",
     "text": [
      "ENTER YOUR NAME: Rafi Ansari\n",
      "ENTER YOUR WEIGHT (in pounds): 297\n",
      "ENTER YOUR HEIGHT (in inches): 76\n",
      "36.14802631578947\n",
      "Rafi Ansari, you are severly overweight! (Very High)\n"
     ]
    }
   ],
   "source": [
    "name = input(\"ENTER YOUR NAME: \")\n",
    "\n",
    "weight = int(input(\"ENTER YOUR WEIGHT (in pounds): \"))\n",
    "\n",
    "height = int(input(\"ENTER YOUR HEIGHT (in inches): \"))\n",
    "\n",
    "BMI = (weight * 703) / (height * height)\n",
    "\n",
    "print(BMI)\n",
    "\n",
    "if BMI > 0:\n",
    "    if (BMI < 18.5):\n",
    "        print(name + \", you are underweight!\")\n",
    "    elif (BMI > 18.5 and BMI < 24.9):\n",
    "        print(name + \", you are normal weight (Minimal)\")\n",
    "    elif (BMI > 25 and BMI < 29.9):\n",
    "        print(name + \", you are overweight! (Increased)\")\n",
    "    elif (BMI > 30 and BMI < 34.9):\n",
    "        print(name + \", you are obese! (High)\")\n",
    "    elif (BMI > 35 and BMI < 39.9):\n",
    "        print(name + \", you are severly overweight! (Very High)\")\n",
    "    elif (BMI > 40):\n",
    "        print(name + \", you are morbidly overwright! (Extremely High)\")\n",
    "    else:\n",
    "        print(\"Enter valid response!!\")"
   ]
  }
 ],
 "metadata": {
  "kernelspec": {
   "display_name": "Python 3 (ipykernel)",
   "language": "python",
   "name": "python3"
  },
  "language_info": {
   "codemirror_mode": {
    "name": "ipython",
    "version": 3
   },
   "file_extension": ".py",
   "mimetype": "text/x-python",
   "name": "python",
   "nbconvert_exporter": "python",
   "pygments_lexer": "ipython3",
   "version": "3.9.13"
  }
 },
 "nbformat": 4,
 "nbformat_minor": 5
}
