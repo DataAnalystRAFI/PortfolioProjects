{
 "cells": [
  {
   "cell_type": "code",
   "execution_count": 16,
   "id": "9792d9ab",
   "metadata": {},
   "outputs": [],
   "source": [
    "import os, shutil"
   ]
  },
  {
   "cell_type": "code",
   "execution_count": 17,
   "id": "fa6fb28e",
   "metadata": {},
   "outputs": [],
   "source": [
    "path = r\"C:/Users/ansar/Downloads/\""
   ]
  },
  {
   "cell_type": "code",
   "execution_count": 18,
   "id": "9cdfabb3",
   "metadata": {},
   "outputs": [],
   "source": [
    "file_name = os.listdir(path)"
   ]
  },
  {
   "cell_type": "code",
   "execution_count": 19,
   "id": "6b6b03bd",
   "metadata": {},
   "outputs": [],
   "source": [
    "folder_names = [\"Wallpaper\", \"Power BI\"]\n",
    "\n",
    "for loop in range(0,2):\n",
    "    if not os.path.exists(path + folder_names[loop]):\n",
    "        os.makedirs(path + folder_names[loop])\n",
    "        \n",
    "for file in file_name:\n",
    "    if \".xlsx\" in file and not os.path.exists(path + \"Power BI/\" + file):\n",
    "        shutil.move(path + file, path + \"Power BI/\" + file)\n",
    "    elif \".pbix\" in file and not os.path.exists(path + \"Power BI/\" + file):\n",
    "        shutil.move(path + file, path + \"Power BI/\" + file)\n",
    "    if \".jpg\" in file and not os.path.exists(path + \"Wallpaper/\" + file):\n",
    "        shutil.move(path + file, path + \"Wallpaper/\" + file)"
   ]
  }
 ],
 "metadata": {
  "kernelspec": {
   "display_name": "Python 3 (ipykernel)",
   "language": "python",
   "name": "python3"
  },
  "language_info": {
   "codemirror_mode": {
    "name": "ipython",
    "version": 3
   },
   "file_extension": ".py",
   "mimetype": "text/x-python",
   "name": "python",
   "nbconvert_exporter": "python",
   "pygments_lexer": "ipython3",
   "version": "3.9.13"
  }
 },
 "nbformat": 4,
 "nbformat_minor": 5
}
