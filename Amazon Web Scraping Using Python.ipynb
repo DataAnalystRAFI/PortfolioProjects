{
 "cells": [
  {
   "cell_type": "code",
   "execution_count": 45,
   "id": "7e53c929",
   "metadata": {},
   "outputs": [],
   "source": [
    "#importing necessary functions\n",
    "\n",
    "from bs4 import BeautifulSoup\n",
    "import requests\n",
    "import time\n",
    "import datetime\n",
    "\n",
    "import smtplib #sending emails"
   ]
  },
  {
   "cell_type": "code",
   "execution_count": 34,
   "id": "04cbfe0b",
   "metadata": {},
   "outputs": [
    {
     "name": "stdout",
     "output_type": "stream",
     "text": [
      "\n",
      "           Apple iPhone 14 Pro Max (128 GB) - Space Black\n",
      "          \n",
      "\n",
      "                       AED4,220.00\n",
      "                      \n"
     ]
    }
   ],
   "source": [
    "#Connecting to the internet\n",
    "\n",
    "URL = 'https://www.amazon.ae/Apple-iPhone-Pro-Max-128/dp/B0BDHXZLVT/ref=cs_sr_dp_4?crid=2EV2A2ETACVFZ&keywords=iphone+14+pro+max&qid=1678785377&sprefix=iphone%2Caps%2C708&sr=8-7'\n",
    "\n",
    "headers = {\"User-Agent\": \"Mozilla/5.0 (Windows NT 10.0; Win64; x64) AppleWebKit/537.36 (KHTML, like Gecko) Chrome/110.0.0.0 Safari/537.36\"}\n",
    "\n",
    "page = requests.get(URL, headers = headers)\n",
    "\n",
    "soup1 = BeautifulSoup(page.content, \"html.parser\")\n",
    "\n",
    "soup2 = BeautifulSoup(soup1.prettify(), \"html.parser\")\n",
    "\n",
    "title = soup2.find(id = 'productTitle').get_text()\n",
    "\n",
    "price = soup2.find(class_ = \"a-offscreen\").get_text()\n",
    "\n",
    "print(title)\n",
    "\n",
    "print(price)"
   ]
  },
  {
   "cell_type": "code",
   "execution_count": 35,
   "id": "a31ec43f",
   "metadata": {},
   "outputs": [
    {
     "name": "stdout",
     "output_type": "stream",
     "text": [
      "Apple iPhone 14 Pro Max (128 GB) - Space Black\n",
      "4,220.00\n"
     ]
    }
   ],
   "source": [
    "price = price.strip()[3:]\n",
    "title = title.strip()\n",
    "\n",
    "print(title)\n",
    "\n",
    "print(price)"
   ]
  },
  {
   "cell_type": "code",
   "execution_count": 38,
   "id": "01e65893",
   "metadata": {},
   "outputs": [
    {
     "name": "stdout",
     "output_type": "stream",
     "text": [
      "2023-03-14\n"
     ]
    }
   ],
   "source": [
    "today = datetime.date.today()\n",
    "\n",
    "print(today)"
   ]
  },
  {
   "cell_type": "code",
   "execution_count": 39,
   "id": "ed6361bb",
   "metadata": {},
   "outputs": [],
   "source": [
    "import csv\n",
    "\n",
    "header = ['Title', 'Price', 'Date']\n",
    "data = [title, price, today]\n",
    "\n",
    "#with open('AmazonWebDataSet.csv', 'w', newline ='', encoding = 'UTF8') as f:\n",
    "   # writer = csv.writer(f)\n",
    "   # writer.writerow(header)\n",
    "   # writer.writerow(data)"
   ]
  },
  {
   "cell_type": "code",
   "execution_count": 41,
   "id": "b1f7ea4c",
   "metadata": {},
   "outputs": [
    {
     "name": "stdout",
     "output_type": "stream",
     "text": [
      "                                            Title     Price        Date\n",
      "0  Apple iPhone 14 Pro Max (128 GB) - Space Black  4,220.00  2023-03-14\n"
     ]
    }
   ],
   "source": [
    "import pandas as pd\n",
    "\n",
    "df = pd.read_csv(r\"C:\\Users\\ansar\\Downloads\\Data Analyst Bootcamp\\Python\\Projects\\AmazonWebDataSet.csv\")\n",
    "\n",
    "print(df)"
   ]
  },
  {
   "cell_type": "code",
   "execution_count": null,
   "id": "77ee67f6",
   "metadata": {},
   "outputs": [],
   "source": [
    "#Appending data to the csv\n",
    "\n",
    "#with open('AmazonWebDataSet.csv', 'a+', newline ='', encoding = 'UTF8') as f:\n",
    "    #writer = csv.writer(f)\n",
    "   # writer.writerow(data)"
   ]
  },
  {
   "cell_type": "code",
   "execution_count": 42,
   "id": "f416fcd9",
   "metadata": {},
   "outputs": [],
   "source": [
    "def check_price():\n",
    "    \n",
    "    URL = 'https://www.amazon.ae/Apple-iPhone-Pro-Max-128/dp/B0BDHXZLVT/ref=cs_sr_dp_4?crid=2EV2A2ETACVFZ&keywords=iphone+14+pro+max&qid=1678785377&sprefix=iphone%2Caps%2C708&sr=8-7'\n",
    "\n",
    "    headers = {\"User-Agent\": \"Mozilla/5.0 (Windows NT 10.0; Win64; x64) AppleWebKit/537.36 (KHTML, like Gecko) Chrome/110.0.0.0 Safari/537.36\"}\n",
    "\n",
    "    page = requests.get(URL, headers = headers)\n",
    "\n",
    "    soup1 = BeautifulSoup(page.content, \"html.parser\")\n",
    "\n",
    "    soup2 = BeautifulSoup(soup1.prettify(), \"html.parser\")\n",
    "\n",
    "    title = soup2.find(id = 'productTitle').get_text()\n",
    "\n",
    "    price = soup2.find(class_ = \"a-offscreen\").get_text()\n",
    "    \n",
    "    price = price.strip()[3:]\n",
    "    \n",
    "    title = title.strip()\n",
    "    \n",
    "    import datetime\n",
    "    \n",
    "    today = datetime.date.today()\n",
    "    \n",
    "    import csv\n",
    "    \n",
    "    header = ['Title', 'Price', 'Date']\n",
    "    \n",
    "    data = [title, price, today]\n",
    "    \n",
    "    with open('AmazonWebDataSet.csv', 'a+', newline ='', encoding = 'UTF8') as f:\n",
    "        writer = csv.writer(f)\n",
    "        writer.writerow(data)\n",
    "        \n",
    "    #if(price < 4100)\n",
    "        #send_mail()\n"
   ]
  },
  {
   "cell_type": "code",
   "execution_count": 46,
   "id": "39a2cf35",
   "metadata": {},
   "outputs": [
    {
     "name": "stderr",
     "output_type": "stream",
     "text": [
      "\n",
      "KeyboardInterrupt\n",
      "\n"
     ]
    }
   ],
   "source": [
    "while(True):\n",
    "    check_price()\n",
    "    time.sleep(86400)"
   ]
  },
  {
   "cell_type": "code",
   "execution_count": 47,
   "id": "7f87738d",
   "metadata": {},
   "outputs": [
    {
     "name": "stdout",
     "output_type": "stream",
     "text": [
      "                                            Title     Price        Date\n",
      "0  Apple iPhone 14 Pro Max (128 GB) - Space Black  4,220.00  2023-03-14\n",
      "1  Apple iPhone 14 Pro Max (128 GB) - Space Black  4,220.00  2023-03-14\n",
      "2  Apple iPhone 14 Pro Max (128 GB) - Space Black  4,220.00  2023-03-14\n",
      "3  Apple iPhone 14 Pro Max (128 GB) - Space Black  4,220.00  2023-03-14\n"
     ]
    }
   ],
   "source": [
    "import pandas as pd\n",
    "\n",
    "df = pd.read_csv(r\"C:\\Users\\ansar\\Downloads\\Data Analyst Bootcamp\\Python\\Projects\\AmazonWebDataSet.csv\")\n",
    "\n",
    "print(df)"
   ]
  },
  {
   "cell_type": "code",
   "execution_count": null,
   "id": "144618ce",
   "metadata": {},
   "outputs": [],
   "source": [
    "def send_mail():\n",
    "    server = smt.plib.SMTP_SSL('smtp.gmail.com', 465)\n",
    "    server.echo()\n",
    "    #server.starttls()\n",
    "    server.ehlo()\n",
    "    server.login('xxxxxxxxxxxxx@gmail.com', 'xxxxxxxxxxxxx')\n",
    "    \n",
    "    subject = \"The Apple iPhone Space Black price has dropped! Check out the new price!\"\n",
    "    body = \"Rafi, Finally some good news regarding the phone price you have automated! Don't miss the chance of buying it! Check the new price and decide if this is what you want\"\n",
    "    \n",
    "    msg = f\"Subject: {subject}\\n\\n{body}\"\n",
    "    \n",
    "    server.sendmail(\n",
    "        'xxxxxxxxxxxxx@gmail.com'\n",
    "        msg\n",
    "    )\n",
    "    "
   ]
  }
 ],
 "metadata": {
  "kernelspec": {
   "display_name": "Python 3 (ipykernel)",
   "language": "python",
   "name": "python3"
  },
  "language_info": {
   "codemirror_mode": {
    "name": "ipython",
    "version": 3
   },
   "file_extension": ".py",
   "mimetype": "text/x-python",
   "name": "python",
   "nbconvert_exporter": "python",
   "pygments_lexer": "ipython3",
   "version": "3.9.13"
  }
 },
 "nbformat": 4,
 "nbformat_minor": 5
}
